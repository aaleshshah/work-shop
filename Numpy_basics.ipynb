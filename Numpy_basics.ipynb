{
  "nbformat": 4,
  "nbformat_minor": 0,
  "metadata": {
    "colab": {
      "provenance": []
    },
    "kernelspec": {
      "name": "python3",
      "display_name": "Python 3"
    },
    "language_info": {
      "name": "python"
    }
  },
  "cells": [
    {
      "cell_type": "code",
      "execution_count": null,
      "metadata": {
        "id": "ltYAp3-g3SFb"
      },
      "outputs": [],
      "source": []
    },
    {
      "cell_type": "markdown",
      "metadata": {
        "id": "u6ibUAi2RMSP"
      },
      "source": [
        "### Importing Numpy"
      ]
    },
    {
      "cell_type": "code",
      "execution_count": 1,
      "metadata": {
        "id": "tsfgFBAXRMSR"
      },
      "outputs": [],
      "source": [
        "import numpy as np"
      ]
    },
    {
      "cell_type": "markdown",
      "metadata": {
        "id": "0PyrZ724szaG"
      },
      "source": [
        "### Creating Numpy Arrays"
      ]
    },
    {
      "cell_type": "code",
      "execution_count": 2,
      "metadata": {
        "id": "V4AVNXrts3sL",
        "colab": {
          "base_uri": "https://localhost:8080/"
        },
        "outputId": "0232cf64-6305-4271-e98a-8adf4854c402"
      },
      "outputs": [
        {
          "output_type": "stream",
          "name": "stdout",
          "text": [
            "[1 2 3]\n"
          ]
        }
      ],
      "source": [
        "# np.array\n",
        "import numpy as np\n",
        "\n",
        "a = np.array([1,2,3])\n",
        "print(a)"
      ]
    },
    {
      "cell_type": "code",
      "execution_count": 3,
      "metadata": {
        "id": "AAfxD1kCs6R5",
        "colab": {
          "base_uri": "https://localhost:8080/"
        },
        "outputId": "a34d7dd5-5205-49a7-b328-fe4bcec5e540"
      },
      "outputs": [
        {
          "output_type": "stream",
          "name": "stdout",
          "text": [
            "[[1 2 3]\n",
            " [4 5 6]]\n"
          ]
        }
      ],
      "source": [
        "# 2D and 3D\n",
        "b = np.array([[1,2,3],[4,5,6]])\n",
        "print(b)"
      ]
    },
    {
      "cell_type": "code",
      "execution_count": 4,
      "metadata": {
        "id": "MyrHdd6J6CrF",
        "colab": {
          "base_uri": "https://localhost:8080/"
        },
        "outputId": "6812f8fc-6a09-4027-f0ec-2a79613874e7"
      },
      "outputs": [
        {
          "output_type": "stream",
          "name": "stdout",
          "text": [
            "[[[1 2]\n",
            "  [3 4]]\n",
            "\n",
            " [[5 6]\n",
            "  [7 8]]]\n"
          ]
        }
      ],
      "source": [
        "c = np.array([[[1,2],[3,4]],[[5,6],[7,8]]])\n",
        "print(c)"
      ]
    },
    {
      "cell_type": "code",
      "execution_count": 5,
      "metadata": {
        "id": "FM8AwUOdFqC7",
        "colab": {
          "base_uri": "https://localhost:8080/"
        },
        "outputId": "4926ee51-10bc-4c63-c841-be3cb4a98ca7"
      },
      "outputs": [
        {
          "output_type": "execute_result",
          "data": {
            "text/plain": [
              "array([1., 2., 3.])"
            ]
          },
          "metadata": {},
          "execution_count": 5
        }
      ],
      "source": [
        "# dtype\n",
        "np.array([1,2,3],dtype=float)"
      ]
    },
    {
      "cell_type": "code",
      "execution_count": 6,
      "metadata": {
        "id": "unQ6yESdRMSU",
        "colab": {
          "base_uri": "https://localhost:8080/"
        },
        "outputId": "dc5ab993-910b-4b6a-e333-e12bcea2f4f8"
      },
      "outputs": [
        {
          "output_type": "stream",
          "name": "stdout",
          "text": [
            "[1 2 3]\n",
            "uint8\n",
            "[1.+0.j 2.+0.j 3.+0.j]\n",
            "complex128\n"
          ]
        }
      ],
      "source": [
        "a = np.array([1, 2, 3], dtype=np.uint8)\n",
        "print(a)\n",
        "print(a.dtype)\n",
        "\n",
        "\n",
        "b = np.array([1, 2, 3], dtype=complex)\n",
        "print(b)\n",
        "print(b.dtype)\n"
      ]
    },
    {
      "cell_type": "code",
      "execution_count": 7,
      "metadata": {
        "id": "ZY187Au_s8vm",
        "colab": {
          "base_uri": "https://localhost:8080/"
        },
        "outputId": "00dda76c-5297-4ad7-c54b-398522d8cfc2"
      },
      "outputs": [
        {
          "output_type": "execute_result",
          "data": {
            "text/plain": [
              "array([1, 3, 5, 7, 9])"
            ]
          },
          "metadata": {},
          "execution_count": 7
        }
      ],
      "source": [
        "# np.arange\n",
        "np.arange(1,11,2)"
      ]
    },
    {
      "cell_type": "code",
      "execution_count": 8,
      "metadata": {
        "id": "3Gc7BaJZwl7e",
        "colab": {
          "base_uri": "https://localhost:8080/"
        },
        "outputId": "b0fac416-ecbf-4755-c336-f858ee3a0646"
      },
      "outputs": [
        {
          "output_type": "execute_result",
          "data": {
            "text/plain": [
              "array([[[[ 0,  1],\n",
              "         [ 2,  3]],\n",
              "\n",
              "        [[ 4,  5],\n",
              "         [ 6,  7]]],\n",
              "\n",
              "\n",
              "       [[[ 8,  9],\n",
              "         [10, 11]],\n",
              "\n",
              "        [[12, 13],\n",
              "         [14, 15]]]])"
            ]
          },
          "metadata": {},
          "execution_count": 8
        }
      ],
      "source": [
        "# with reshape\n",
        "np.arange(16).reshape(2,2,2,2)"
      ]
    },
    {
      "cell_type": "code",
      "execution_count": 9,
      "metadata": {
        "id": "R2BYpYcGs-9l",
        "colab": {
          "base_uri": "https://localhost:8080/"
        },
        "outputId": "fd90b7f4-62bd-4deb-bd93-ded1cf8d42a9"
      },
      "outputs": [
        {
          "output_type": "execute_result",
          "data": {
            "text/plain": [
              "array([[1., 1., 1., 1.],\n",
              "       [1., 1., 1., 1.],\n",
              "       [1., 1., 1., 1.]])"
            ]
          },
          "metadata": {},
          "execution_count": 9
        }
      ],
      "source": [
        "# np.ones and np.zeros\n",
        "np.ones((3,4))"
      ]
    },
    {
      "cell_type": "code",
      "execution_count": 10,
      "metadata": {
        "id": "vOjv_Euj8HGR",
        "colab": {
          "base_uri": "https://localhost:8080/"
        },
        "outputId": "94e358c2-72a9-4aa3-c725-90b35195470c"
      },
      "outputs": [
        {
          "output_type": "execute_result",
          "data": {
            "text/plain": [
              "array([[0., 0., 0., 0.],\n",
              "       [0., 0., 0., 0.],\n",
              "       [0., 0., 0., 0.]])"
            ]
          },
          "metadata": {},
          "execution_count": 10
        }
      ],
      "source": [
        "np.zeros((3,4))"
      ]
    },
    {
      "cell_type": "code",
      "execution_count": 11,
      "metadata": {
        "id": "fYEeYi7itCRM",
        "colab": {
          "base_uri": "https://localhost:8080/"
        },
        "outputId": "324e7f19-a172-4718-855c-8660aa777211"
      },
      "outputs": [
        {
          "output_type": "execute_result",
          "data": {
            "text/plain": [
              "array([[0.86353619, 0.12689833, 0.91726664, 0.73510793],\n",
              "       [0.01272881, 0.25805306, 0.95658856, 0.80227786],\n",
              "       [0.4081538 , 0.72205208, 0.66678943, 0.01067083]])"
            ]
          },
          "metadata": {},
          "execution_count": 11
        }
      ],
      "source": [
        "# np.random\n",
        "np.random.random((3,4))"
      ]
    },
    {
      "cell_type": "code",
      "execution_count": 12,
      "metadata": {
        "id": "vel7WrgltE3P",
        "colab": {
          "base_uri": "https://localhost:8080/"
        },
        "outputId": "d67d2aed-e724-400c-c45f-f122efb273c5"
      },
      "outputs": [
        {
          "output_type": "execute_result",
          "data": {
            "text/plain": [
              "array([-10,  -8,  -6,  -4,  -2,   1,   3,   5,   7,  10])"
            ]
          },
          "metadata": {},
          "execution_count": 12
        }
      ],
      "source": [
        "# np.linspace\n",
        "np.linspace(-10,10,10,dtype=int)"
      ]
    },
    {
      "cell_type": "code",
      "execution_count": 13,
      "metadata": {
        "id": "ewyMuXh1tJzi",
        "colab": {
          "base_uri": "https://localhost:8080/"
        },
        "outputId": "45efcc94-7f86-4ef8-ed80-3661cad61678"
      },
      "outputs": [
        {
          "output_type": "execute_result",
          "data": {
            "text/plain": [
              "array([[1., 0., 0.],\n",
              "       [0., 1., 0.],\n",
              "       [0., 0., 1.]])"
            ]
          },
          "metadata": {},
          "execution_count": 13
        }
      ],
      "source": [
        "# np.identity\n",
        "np.identity(3)"
      ]
    },
    {
      "cell_type": "markdown",
      "metadata": {
        "id": "LphXpjZJtNyI"
      },
      "source": [
        "### Array Attributes"
      ]
    },
    {
      "cell_type": "code",
      "execution_count": 14,
      "metadata": {
        "id": "UXnB5dIEFOgD",
        "colab": {
          "base_uri": "https://localhost:8080/"
        },
        "outputId": "14327f8f-ce76-4dd6-deb7-199a17193732"
      },
      "outputs": [
        {
          "output_type": "execute_result",
          "data": {
            "text/plain": [
              "array([[[0, 1],\n",
              "        [2, 3]],\n",
              "\n",
              "       [[4, 5],\n",
              "        [6, 7]]])"
            ]
          },
          "metadata": {},
          "execution_count": 14
        }
      ],
      "source": [
        "a1 = np.arange(10,dtype=np.int32)\n",
        "a2 = np.arange(12,dtype=float).reshape(3,4)\n",
        "a3 = np.arange(8).reshape(2,2,2)\n",
        "\n",
        "a3"
      ]
    },
    {
      "cell_type": "code",
      "execution_count": 15,
      "metadata": {
        "id": "qib4oDFptRKN",
        "colab": {
          "base_uri": "https://localhost:8080/"
        },
        "outputId": "9d822657-8424-4cd0-9c42-bda1a678e00b"
      },
      "outputs": [
        {
          "output_type": "execute_result",
          "data": {
            "text/plain": [
              "3"
            ]
          },
          "metadata": {},
          "execution_count": 15
        }
      ],
      "source": [
        "# ndim\n",
        "a3.ndim"
      ]
    },
    {
      "cell_type": "code",
      "execution_count": 16,
      "metadata": {
        "id": "InUvH8KGtSRv",
        "colab": {
          "base_uri": "https://localhost:8080/"
        },
        "outputId": "5bb496f6-9b16-4992-9314-21b662d76f1d"
      },
      "outputs": [
        {
          "output_type": "stream",
          "name": "stdout",
          "text": [
            "(2, 2, 2)\n"
          ]
        },
        {
          "output_type": "execute_result",
          "data": {
            "text/plain": [
              "array([[[0, 1],\n",
              "        [2, 3]],\n",
              "\n",
              "       [[4, 5],\n",
              "        [6, 7]]])"
            ]
          },
          "metadata": {},
          "execution_count": 16
        }
      ],
      "source": [
        "# shape\n",
        "print(a3.shape)\n",
        "a3"
      ]
    },
    {
      "cell_type": "code",
      "execution_count": 17,
      "metadata": {
        "id": "9Dko5610tT-Z",
        "colab": {
          "base_uri": "https://localhost:8080/"
        },
        "outputId": "b8515851-e611-41cc-ac0e-a88e2c408e91"
      },
      "outputs": [
        {
          "output_type": "stream",
          "name": "stdout",
          "text": [
            "12\n"
          ]
        },
        {
          "output_type": "execute_result",
          "data": {
            "text/plain": [
              "array([[ 0.,  1.,  2.,  3.],\n",
              "       [ 4.,  5.,  6.,  7.],\n",
              "       [ 8.,  9., 10., 11.]])"
            ]
          },
          "metadata": {},
          "execution_count": 17
        }
      ],
      "source": [
        "# size\n",
        "print(a2.size)\n",
        "a2"
      ]
    },
    {
      "cell_type": "code",
      "execution_count": 18,
      "metadata": {
        "id": "wDFdHtH3tV1Z",
        "colab": {
          "base_uri": "https://localhost:8080/"
        },
        "outputId": "84872393-92a8-43da-cf46-6ddbe5709238"
      },
      "outputs": [
        {
          "output_type": "execute_result",
          "data": {
            "text/plain": [
              "8"
            ]
          },
          "metadata": {},
          "execution_count": 18
        }
      ],
      "source": [
        "# itemsize\n",
        "a3.itemsize"
      ]
    },
    {
      "cell_type": "code",
      "execution_count": 19,
      "metadata": {
        "id": "Pik7FgEVtXDj",
        "colab": {
          "base_uri": "https://localhost:8080/"
        },
        "outputId": "0ec5892c-90cf-47d5-a847-1d2e9c94a860"
      },
      "outputs": [
        {
          "output_type": "stream",
          "name": "stdout",
          "text": [
            "int32\n",
            "float64\n",
            "int64\n"
          ]
        }
      ],
      "source": [
        "# dtype\n",
        "print(a1.dtype)\n",
        "print(a2.dtype)\n",
        "print(a3.dtype)\n",
        "\n"
      ]
    },
    {
      "cell_type": "markdown",
      "metadata": {
        "id": "7Ase0eFWtcFl"
      },
      "source": [
        "### Changing Datatype"
      ]
    },
    {
      "cell_type": "code",
      "execution_count": 20,
      "metadata": {
        "id": "DZPEFqhotbFS",
        "colab": {
          "base_uri": "https://localhost:8080/"
        },
        "outputId": "852533c3-e6c3-4098-b80c-daefeaabfbc5"
      },
      "outputs": [
        {
          "output_type": "execute_result",
          "data": {
            "text/plain": [
              "array([[[0, 1],\n",
              "        [2, 3]],\n",
              "\n",
              "       [[4, 5],\n",
              "        [6, 7]]], dtype=int32)"
            ]
          },
          "metadata": {},
          "execution_count": 20
        }
      ],
      "source": [
        "# astype\n",
        "a3.astype(np.int32)"
      ]
    },
    {
      "cell_type": "markdown",
      "metadata": {
        "id": "k-y-aaV9u52l"
      },
      "source": [
        "### Array Operations"
      ]
    },
    {
      "cell_type": "code",
      "execution_count": 21,
      "metadata": {
        "id": "mIk8tk53HnOW",
        "colab": {
          "base_uri": "https://localhost:8080/"
        },
        "outputId": "a6e3eb06-ef92-405d-ec42-a127cee807ca"
      },
      "outputs": [
        {
          "output_type": "execute_result",
          "data": {
            "text/plain": [
              "array([[12, 13, 14, 15],\n",
              "       [16, 17, 18, 19],\n",
              "       [20, 21, 22, 23]])"
            ]
          },
          "metadata": {},
          "execution_count": 21
        }
      ],
      "source": [
        "a1 = np.arange(12).reshape(3,4)\n",
        "a2 = np.arange(12,24).reshape(3,4)\n",
        "\n",
        "a2"
      ]
    },
    {
      "cell_type": "code",
      "execution_count": 22,
      "metadata": {
        "id": "vtQrWQKD87Fn",
        "colab": {
          "base_uri": "https://localhost:8080/"
        },
        "outputId": "773df3a8-794c-4106-d053-0954e4e222a4"
      },
      "outputs": [
        {
          "output_type": "execute_result",
          "data": {
            "text/plain": [
              "array([[  0,   1,   4,   9],\n",
              "       [ 16,  25,  36,  49],\n",
              "       [ 64,  81, 100, 121]])"
            ]
          },
          "metadata": {},
          "execution_count": 22
        }
      ],
      "source": [
        "# scalar operations\n",
        "\n",
        "# arithmetic\n",
        "a1 ** 2"
      ]
    },
    {
      "cell_type": "code",
      "execution_count": 23,
      "metadata": {
        "id": "mCgPxTzQrtte",
        "colab": {
          "base_uri": "https://localhost:8080/"
        },
        "outputId": "f4f1944d-a731-428d-d121-76792b07cc88"
      },
      "outputs": [
        {
          "output_type": "execute_result",
          "data": {
            "text/plain": [
              "array([[False, False, False,  True],\n",
              "       [False, False, False, False],\n",
              "       [False, False, False, False]])"
            ]
          },
          "metadata": {},
          "execution_count": 23
        }
      ],
      "source": [
        "# relational\n",
        "a2 == 15"
      ]
    },
    {
      "cell_type": "code",
      "execution_count": 24,
      "metadata": {
        "id": "E2S3xDRxrt5D",
        "colab": {
          "base_uri": "https://localhost:8080/"
        },
        "outputId": "a496e5bf-702c-461c-bd95-ce014d38b2ad"
      },
      "outputs": [
        {
          "output_type": "execute_result",
          "data": {
            "text/plain": [
              "array([[                   0,                    1,                16384,\n",
              "                    14348907],\n",
              "       [          4294967296,         762939453125,      101559956668416,\n",
              "           11398895185373143],\n",
              "       [ 1152921504606846976, -1261475310744950487,  1864712049423024128,\n",
              "         6839173302027254275]])"
            ]
          },
          "metadata": {},
          "execution_count": 24
        }
      ],
      "source": [
        "# vector operations\n",
        "# arithmetic\n",
        "a1 ** a2"
      ]
    },
    {
      "cell_type": "markdown",
      "metadata": {
        "id": "AQZgntYTu8ot"
      },
      "source": [
        "### Array Functions"
      ]
    },
    {
      "cell_type": "code",
      "execution_count": 25,
      "metadata": {
        "id": "CHUj0a_dIP4F",
        "colab": {
          "base_uri": "https://localhost:8080/"
        },
        "outputId": "9e7ba471-f73f-45b2-bfa9-04e516a86d55"
      },
      "outputs": [
        {
          "output_type": "execute_result",
          "data": {
            "text/plain": [
              "array([[94., 55., 45.],\n",
              "       [99., 36., 12.],\n",
              "       [48., 61., 40.]])"
            ]
          },
          "metadata": {},
          "execution_count": 25
        }
      ],
      "source": [
        "a1 = np.random.random((3,3))\n",
        "a1 = np.round(a1*100)\n",
        "a1"
      ]
    },
    {
      "cell_type": "code",
      "execution_count": 26,
      "metadata": {
        "id": "J1EWNET29Urx",
        "colab": {
          "base_uri": "https://localhost:8080/"
        },
        "outputId": "29268bc8-ab91-43a5-9ebc-18f03f5a648d"
      },
      "outputs": [
        {
          "output_type": "execute_result",
          "data": {
            "text/plain": [
              "array([446688., 120780.,  21600.])"
            ]
          },
          "metadata": {},
          "execution_count": 26
        }
      ],
      "source": [
        "# max/min/sum/prod\n",
        "# 0 -> col and 1 -> row\n",
        "np.prod(a1,axis=0)"
      ]
    },
    {
      "cell_type": "code",
      "execution_count": 27,
      "metadata": {
        "id": "JAlMLFkds9KC",
        "colab": {
          "base_uri": "https://localhost:8080/"
        },
        "outputId": "1bddb98e-b958-4c37-96ca-a152b4b596d3"
      },
      "outputs": [
        {
          "output_type": "execute_result",
          "data": {
            "text/plain": [
              "array([ 446.88888889, 1346.        ,   74.88888889])"
            ]
          },
          "metadata": {},
          "execution_count": 27
        }
      ],
      "source": [
        "# mean/median/std/var\n",
        "np.var(a1,axis=1)"
      ]
    },
    {
      "cell_type": "code",
      "execution_count": 28,
      "metadata": {
        "id": "vwLoQQVqs-m-",
        "colab": {
          "base_uri": "https://localhost:8080/"
        },
        "outputId": "a7de5625-bdf7-400f-99f2-06547b4738aa"
      },
      "outputs": [
        {
          "output_type": "execute_result",
          "data": {
            "text/plain": [
              "array([[-0.24525199, -0.99975517,  0.85090352],\n",
              "       [-0.99920683, -0.99177885, -0.53657292],\n",
              "       [-0.76825466, -0.96611777,  0.74511316]])"
            ]
          },
          "metadata": {},
          "execution_count": 28
        }
      ],
      "source": [
        "# trigonomoetric functions\n",
        "np.sin(a1)"
      ]
    },
    {
      "cell_type": "code",
      "execution_count": 29,
      "metadata": {
        "id": "x34ipDXRRMSY",
        "colab": {
          "base_uri": "https://localhost:8080/"
        },
        "outputId": "5c656b88-1d74-45be-bdce-6d9db8e0e48b"
      },
      "outputs": [
        {
          "output_type": "stream",
          "name": "stdout",
          "text": [
            "Angles in degrees: [ 0 30 45 60 90]\n",
            "Angles in radians: [0.         0.52359878 0.78539816 1.04719755 1.57079633]\n",
            "Sine: [0.         0.5        0.70710678 0.8660254  1.        ]\n",
            "Cosine: [1.00000000e+00 8.66025404e-01 7.07106781e-01 5.00000000e-01\n",
            " 6.12323400e-17]\n",
            "Tangent: [0.00000000e+00 5.77350269e-01 1.00000000e+00 1.73205081e+00\n",
            " 1.63312394e+16]\n"
          ]
        }
      ],
      "source": [
        "# Angle array in degrees\n",
        "angles_deg = np.array([0, 30, 45, 60, 90])\n",
        "# Convert to radians\n",
        "angles_rad = np.deg2rad(angles_deg)\n",
        "\n",
        "print(\"Angles in degrees:\", angles_deg)\n",
        "print(\"Angles in radians:\", angles_rad)\n",
        "\n",
        "print(\"Sine:\", np.sin(angles_rad))\n",
        "print(\"Cosine:\", np.cos(angles_rad))\n",
        "print(\"Tangent:\", np.tan(angles_rad))"
      ]
    },
    {
      "cell_type": "code",
      "execution_count": 30,
      "metadata": {
        "id": "RoEtYuiytFm1",
        "colab": {
          "base_uri": "https://localhost:8080/"
        },
        "outputId": "4e3b59b8-5343-4314-a279-19faa50d36b8"
      },
      "outputs": [
        {
          "output_type": "execute_result",
          "data": {
            "text/plain": [
              "array([[114, 120, 126],\n",
              "       [378, 400, 422],\n",
              "       [642, 680, 718]])"
            ]
          },
          "metadata": {},
          "execution_count": 30
        }
      ],
      "source": [
        "# dot product\n",
        "a2 = np.arange(12).reshape(3,4)\n",
        "a3 = np.arange(12,24).reshape(4,3)\n",
        "\n",
        "np.dot(a2,a3)"
      ]
    },
    {
      "cell_type": "code",
      "source": [
        "a1"
      ],
      "metadata": {
        "id": "isE2sqzV1SCz",
        "colab": {
          "base_uri": "https://localhost:8080/"
        },
        "outputId": "1e1c0264-6d64-4c4f-9c25-fdf8ef052c3b"
      },
      "execution_count": 31,
      "outputs": [
        {
          "output_type": "execute_result",
          "data": {
            "text/plain": [
              "array([[94., 55., 45.],\n",
              "       [99., 36., 12.],\n",
              "       [48., 61., 40.]])"
            ]
          },
          "metadata": {},
          "execution_count": 31
        }
      ]
    },
    {
      "cell_type": "code",
      "execution_count": 32,
      "metadata": {
        "id": "qd7GmrgEtH6i",
        "colab": {
          "base_uri": "https://localhost:8080/"
        },
        "outputId": "6d58c2a6-7a6b-48a3-a97c-40b79f108fe7"
      },
      "outputs": [
        {
          "output_type": "execute_result",
          "data": {
            "text/plain": [
              "array([[6.66317622e+40, 7.69478527e+23, 3.49342711e+19],\n",
              "       [9.88903032e+42, 4.31123155e+15, 1.62754791e+05],\n",
              "       [7.01673591e+20, 3.10429794e+26, 2.35385267e+17]])"
            ]
          },
          "metadata": {},
          "execution_count": 32
        }
      ],
      "source": [
        "# log and exponents\n",
        "np.exp(a1)   #e**a1  e=2.718"
      ]
    },
    {
      "cell_type": "code",
      "execution_count": 33,
      "metadata": {
        "id": "EOXnVCZhtKk1",
        "colab": {
          "base_uri": "https://localhost:8080/"
        },
        "outputId": "587f0021-0727-4c05-de3c-f77066a32d5d"
      },
      "outputs": [
        {
          "output_type": "execute_result",
          "data": {
            "text/plain": [
              "array([[100.,  42.,  21.],\n",
              "       [ 74.,  77.,  73.]])"
            ]
          },
          "metadata": {},
          "execution_count": 33
        }
      ],
      "source": [
        "# round/floor/ceil\n",
        "\n",
        "np.ceil(np.random.random((2,3))*100)"
      ]
    },
    {
      "cell_type": "markdown",
      "metadata": {
        "id": "2pYZJMrAuvuv"
      },
      "source": [
        "### Indexing and Slicing"
      ]
    },
    {
      "cell_type": "code",
      "execution_count": 34,
      "metadata": {
        "id": "v1LynzX9u2R-",
        "colab": {
          "base_uri": "https://localhost:8080/"
        },
        "outputId": "4218dcae-639d-4966-f558-4f98756a3ac7"
      },
      "outputs": [
        {
          "output_type": "execute_result",
          "data": {
            "text/plain": [
              "array([[12, 13, 14],\n",
              "       [15, 16, 17],\n",
              "       [18, 19, 20],\n",
              "       [21, 22, 23]])"
            ]
          },
          "metadata": {},
          "execution_count": 34
        }
      ],
      "source": [
        "\n",
        "\n",
        "a3"
      ]
    },
    {
      "cell_type": "code",
      "execution_count": 35,
      "metadata": {
        "id": "qyFbwR9Ku2YE",
        "colab": {
          "base_uri": "https://localhost:8080/"
        },
        "outputId": "e43e8bae-951b-497c-9145-500f97363974"
      },
      "outputs": [
        {
          "output_type": "execute_result",
          "data": {
            "text/plain": [
              "array([[94., 55., 45.],\n",
              "       [99., 36., 12.],\n",
              "       [48., 61., 40.]])"
            ]
          },
          "metadata": {},
          "execution_count": 35
        }
      ],
      "source": [
        "a1"
      ]
    },
    {
      "cell_type": "code",
      "execution_count": 36,
      "metadata": {
        "id": "Q2IbBdEXu2a5",
        "colab": {
          "base_uri": "https://localhost:8080/"
        },
        "outputId": "fec1c355-4fd8-435c-daf6-66064988e1dd"
      },
      "outputs": [
        {
          "output_type": "execute_result",
          "data": {
            "text/plain": [
              "array([[ 0,  1,  2,  3],\n",
              "       [ 4,  5,  6,  7],\n",
              "       [ 8,  9, 10, 11]])"
            ]
          },
          "metadata": {},
          "execution_count": 36
        }
      ],
      "source": [
        "a2"
      ]
    },
    {
      "cell_type": "code",
      "execution_count": 37,
      "metadata": {
        "id": "GIR5YhVzu2dc",
        "colab": {
          "base_uri": "https://localhost:8080/"
        },
        "outputId": "04aaa594-f738-4f0f-a7d3-6846afb4d550"
      },
      "outputs": [
        {
          "output_type": "execute_result",
          "data": {
            "text/plain": [
              "np.int64(4)"
            ]
          },
          "metadata": {},
          "execution_count": 37
        }
      ],
      "source": [
        "a2[1,0]"
      ]
    },
    {
      "cell_type": "code",
      "execution_count": 38,
      "metadata": {
        "id": "IbM-KNY3HP9-",
        "colab": {
          "base_uri": "https://localhost:8080/"
        },
        "outputId": "f85c390c-6d7c-4a4e-d0f6-70d647ef2d1a"
      },
      "outputs": [
        {
          "output_type": "execute_result",
          "data": {
            "text/plain": [
              "array([[12, 13, 14],\n",
              "       [15, 16, 17],\n",
              "       [18, 19, 20],\n",
              "       [21, 22, 23]])"
            ]
          },
          "metadata": {},
          "execution_count": 38
        }
      ],
      "source": [
        "a3"
      ]
    },
    {
      "cell_type": "code",
      "execution_count": 39,
      "metadata": {
        "id": "xG7HU0RgHQD-",
        "colab": {
          "base_uri": "https://localhost:8080/"
        },
        "outputId": "99033d78-d478-40a0-df9b-47487525a3ee"
      },
      "outputs": [
        {
          "output_type": "execute_result",
          "data": {
            "text/plain": [
              "np.int64(15)"
            ]
          },
          "metadata": {},
          "execution_count": 39
        }
      ],
      "source": [
        "a3[1,0]"
      ]
    },
    {
      "cell_type": "code",
      "execution_count": 40,
      "metadata": {
        "id": "3EhcikSWHQKO",
        "colab": {
          "base_uri": "https://localhost:8080/"
        },
        "outputId": "b3e68d4c-95d5-417f-bcbf-3dbd4f111ef8"
      },
      "outputs": [
        {
          "output_type": "execute_result",
          "data": {
            "text/plain": [
              "np.int64(16)"
            ]
          },
          "metadata": {},
          "execution_count": 40
        }
      ],
      "source": [
        "a3[1,1]"
      ]
    },
    {
      "cell_type": "code",
      "execution_count": 41,
      "metadata": {
        "id": "_cgU2A52HQO0",
        "colab": {
          "base_uri": "https://localhost:8080/"
        },
        "outputId": "16841d7c-af6d-4650-fb12-48991bb5e05b"
      },
      "outputs": [
        {
          "output_type": "execute_result",
          "data": {
            "text/plain": [
              "array([[94., 55., 45.],\n",
              "       [99., 36., 12.],\n",
              "       [48., 61., 40.]])"
            ]
          },
          "metadata": {},
          "execution_count": 41
        }
      ],
      "source": [
        "a1"
      ]
    },
    {
      "cell_type": "code",
      "execution_count": 42,
      "metadata": {
        "id": "HnFM0Wa5IMw2",
        "colab": {
          "base_uri": "https://localhost:8080/"
        },
        "outputId": "7d3847c3-aa4a-42a2-d720-4250920c7174"
      },
      "outputs": [
        {
          "output_type": "execute_result",
          "data": {
            "text/plain": [
              "array([[48., 61., 40.]])"
            ]
          },
          "metadata": {},
          "execution_count": 42
        }
      ],
      "source": [
        "a1[2:5:2]"
      ]
    },
    {
      "cell_type": "code",
      "execution_count": 43,
      "metadata": {
        "id": "q55x6VoiKmpX",
        "colab": {
          "base_uri": "https://localhost:8080/"
        },
        "outputId": "8322f4ca-33b3-4f50-f2f1-3c0ce3dd0262"
      },
      "outputs": [
        {
          "output_type": "execute_result",
          "data": {
            "text/plain": [
              "array([[1, 3],\n",
              "       [5, 7]])"
            ]
          },
          "metadata": {},
          "execution_count": 43
        }
      ],
      "source": [
        "a2[0:2,1::2]"
      ]
    },
    {
      "cell_type": "code",
      "execution_count": 44,
      "metadata": {
        "id": "t2hA9ZJNJOBW",
        "colab": {
          "base_uri": "https://localhost:8080/"
        },
        "outputId": "cd7cb929-21da-4737-f440-acef8b973512"
      },
      "outputs": [
        {
          "output_type": "execute_result",
          "data": {
            "text/plain": [
              "array([[ 1,  3],\n",
              "       [ 9, 11]])"
            ]
          },
          "metadata": {},
          "execution_count": 44
        }
      ],
      "source": [
        "a2[::2,1::2]"
      ]
    },
    {
      "cell_type": "code",
      "execution_count": 45,
      "metadata": {
        "id": "hubSAa0eKSCt",
        "colab": {
          "base_uri": "https://localhost:8080/"
        },
        "outputId": "fa6d19ae-7b6f-4aca-eabf-e7b174782717"
      },
      "outputs": [
        {
          "output_type": "execute_result",
          "data": {
            "text/plain": [
              "array([4, 7])"
            ]
          },
          "metadata": {},
          "execution_count": 45
        }
      ],
      "source": [
        "a2[1,::3]"
      ]
    },
    {
      "cell_type": "code",
      "execution_count": 46,
      "metadata": {
        "id": "mi2B5NN9IM-B",
        "colab": {
          "base_uri": "https://localhost:8080/"
        },
        "outputId": "ca6b4f5c-a8e6-4add-dc99-97f6601c5ee7"
      },
      "outputs": [
        {
          "output_type": "execute_result",
          "data": {
            "text/plain": [
              "array([0, 1, 2, 3])"
            ]
          },
          "metadata": {},
          "execution_count": 46
        }
      ],
      "source": [
        "a2[0,:]"
      ]
    },
    {
      "cell_type": "code",
      "execution_count": 47,
      "metadata": {
        "id": "u7dQcPKpINDS",
        "colab": {
          "base_uri": "https://localhost:8080/"
        },
        "outputId": "8120db22-4db4-4b2a-e35d-183cf7e12709"
      },
      "outputs": [
        {
          "output_type": "execute_result",
          "data": {
            "text/plain": [
              "array([ 2,  6, 10])"
            ]
          },
          "metadata": {},
          "execution_count": 47
        }
      ],
      "source": [
        "a2[:,2]"
      ]
    },
    {
      "cell_type": "code",
      "execution_count": 48,
      "metadata": {
        "id": "GYjyXNKnINTA",
        "colab": {
          "base_uri": "https://localhost:8080/"
        },
        "outputId": "62aaf71d-7d51-4520-f5be-7da3e1f186dd"
      },
      "outputs": [
        {
          "output_type": "execute_result",
          "data": {
            "text/plain": [
              "array([[ 5,  6],\n",
              "       [ 9, 10]])"
            ]
          },
          "metadata": {},
          "execution_count": 48
        }
      ],
      "source": [
        "a2[1:,1:3]"
      ]
    },
    {
      "cell_type": "code",
      "execution_count": 49,
      "metadata": {
        "id": "Z-24y62tK7KO",
        "colab": {
          "base_uri": "https://localhost:8080/"
        },
        "outputId": "c55dae48-0916-46d8-abf4-9ae3c15d2a97"
      },
      "outputs": [
        {
          "output_type": "execute_result",
          "data": {
            "text/plain": [
              "array([[[ 0,  1,  2],\n",
              "        [ 3,  4,  5],\n",
              "        [ 6,  7,  8]],\n",
              "\n",
              "       [[ 9, 10, 11],\n",
              "        [12, 13, 14],\n",
              "        [15, 16, 17]],\n",
              "\n",
              "       [[18, 19, 20],\n",
              "        [21, 22, 23],\n",
              "        [24, 25, 26]]])"
            ]
          },
          "metadata": {},
          "execution_count": 49
        }
      ],
      "source": [
        "a3 = np.arange(27).reshape(3,3,3)\n",
        "a3"
      ]
    },
    {
      "cell_type": "code",
      "execution_count": 50,
      "metadata": {
        "id": "DB1bM8NCMTub",
        "colab": {
          "base_uri": "https://localhost:8080/"
        },
        "outputId": "79193544-7b15-4025-eb38-41de945877c8"
      },
      "outputs": [
        {
          "output_type": "execute_result",
          "data": {
            "text/plain": [
              "array([[ 0,  2],\n",
              "       [18, 20]])"
            ]
          },
          "metadata": {},
          "execution_count": 50
        }
      ],
      "source": [
        "a3[::2,0,::2]"
      ]
    },
    {
      "cell_type": "code",
      "execution_count": 51,
      "metadata": {
        "id": "gPOgRWfNLxPF",
        "colab": {
          "base_uri": "https://localhost:8080/"
        },
        "outputId": "c484dd28-3213-46a3-998b-23199cca59de"
      },
      "outputs": [
        {
          "output_type": "execute_result",
          "data": {
            "text/plain": [
              "array([[22, 23],\n",
              "       [25, 26]])"
            ]
          },
          "metadata": {},
          "execution_count": 51
        }
      ],
      "source": [
        "a3[2,1:,1:]"
      ]
    },
    {
      "cell_type": "code",
      "execution_count": 52,
      "metadata": {
        "id": "S3OJJAMXK7RV",
        "colab": {
          "base_uri": "https://localhost:8080/"
        },
        "outputId": "8ff5524a-a380-4bd6-a515-27e41b26d3d3"
      },
      "outputs": [
        {
          "output_type": "execute_result",
          "data": {
            "text/plain": [
              "array([3, 4, 5])"
            ]
          },
          "metadata": {},
          "execution_count": 52
        }
      ],
      "source": [
        "a3[0,1,:]"
      ]
    },
    {
      "cell_type": "markdown",
      "metadata": {
        "id": "dUv9qM1yuIKJ"
      },
      "source": [
        "### Iterating"
      ]
    },
    {
      "cell_type": "code",
      "execution_count": 53,
      "metadata": {
        "id": "lNgaCad6uKhm",
        "colab": {
          "base_uri": "https://localhost:8080/"
        },
        "outputId": "f5088318-ae4e-4a0a-bf13-937eb39cb08e"
      },
      "outputs": [
        {
          "output_type": "stream",
          "name": "stdout",
          "text": [
            "[94. 55. 45.]\n",
            "[99. 36. 12.]\n",
            "[48. 61. 40.]\n"
          ]
        }
      ],
      "source": [
        "a1\n",
        "\n",
        "for i in a1:\n",
        "  print(i)"
      ]
    },
    {
      "cell_type": "code",
      "execution_count": 54,
      "metadata": {
        "id": "jNIsE0YFM6ZN",
        "colab": {
          "base_uri": "https://localhost:8080/"
        },
        "outputId": "3a35ad29-4006-4a27-8c04-ed7f27f10ada"
      },
      "outputs": [
        {
          "output_type": "execute_result",
          "data": {
            "text/plain": [
              "array([[ 0,  1,  2,  3],\n",
              "       [ 4,  5,  6,  7],\n",
              "       [ 8,  9, 10, 11]])"
            ]
          },
          "metadata": {},
          "execution_count": 54
        }
      ],
      "source": [
        "a2"
      ]
    },
    {
      "cell_type": "code",
      "execution_count": 55,
      "metadata": {
        "id": "B2Hk-zAONHTY",
        "colab": {
          "base_uri": "https://localhost:8080/"
        },
        "outputId": "337310ec-a68e-444e-db57-83b4a4a6dd55"
      },
      "outputs": [
        {
          "output_type": "stream",
          "name": "stdout",
          "text": [
            "[0 1 2 3]\n",
            "[4 5 6 7]\n",
            "[ 8  9 10 11]\n"
          ]
        }
      ],
      "source": [
        "for i in a2:\n",
        "  print(i)"
      ]
    },
    {
      "cell_type": "code",
      "execution_count": 56,
      "metadata": {
        "id": "8hfuC98qM-hC",
        "colab": {
          "base_uri": "https://localhost:8080/"
        },
        "outputId": "926da7f6-0368-4f1f-a4ac-4cae21c2184c"
      },
      "outputs": [
        {
          "output_type": "execute_result",
          "data": {
            "text/plain": [
              "array([[[ 0,  1,  2],\n",
              "        [ 3,  4,  5],\n",
              "        [ 6,  7,  8]],\n",
              "\n",
              "       [[ 9, 10, 11],\n",
              "        [12, 13, 14],\n",
              "        [15, 16, 17]],\n",
              "\n",
              "       [[18, 19, 20],\n",
              "        [21, 22, 23],\n",
              "        [24, 25, 26]]])"
            ]
          },
          "metadata": {},
          "execution_count": 56
        }
      ],
      "source": [
        "a3"
      ]
    },
    {
      "cell_type": "code",
      "execution_count": 57,
      "metadata": {
        "id": "DsYEnw2ONOIy",
        "colab": {
          "base_uri": "https://localhost:8080/"
        },
        "outputId": "a2d2d8b4-6910-44d2-ffbe-af365e769b4c"
      },
      "outputs": [
        {
          "output_type": "stream",
          "name": "stdout",
          "text": [
            "[[0 1 2]\n",
            " [3 4 5]\n",
            " [6 7 8]]\n",
            "[[ 9 10 11]\n",
            " [12 13 14]\n",
            " [15 16 17]]\n",
            "[[18 19 20]\n",
            " [21 22 23]\n",
            " [24 25 26]]\n"
          ]
        }
      ],
      "source": [
        "for i in a3:\n",
        "  print(i)"
      ]
    },
    {
      "cell_type": "code",
      "execution_count": 58,
      "metadata": {
        "id": "IuRJ1QiRNZRM",
        "colab": {
          "base_uri": "https://localhost:8080/"
        },
        "outputId": "b91a8efa-50c2-4e60-ca28-f958f70ac213"
      },
      "outputs": [
        {
          "output_type": "stream",
          "name": "stdout",
          "text": [
            "0\n",
            "1\n",
            "2\n",
            "3\n",
            "4\n",
            "5\n",
            "6\n",
            "7\n",
            "8\n",
            "9\n",
            "10\n",
            "11\n",
            "12\n",
            "13\n",
            "14\n",
            "15\n",
            "16\n",
            "17\n",
            "18\n",
            "19\n",
            "20\n",
            "21\n",
            "22\n",
            "23\n",
            "24\n",
            "25\n",
            "26\n"
          ]
        }
      ],
      "source": [
        "for i in np.nditer(a3):\n",
        "  print(i)"
      ]
    },
    {
      "cell_type": "code",
      "execution_count": 59,
      "metadata": {
        "id": "DBIaUE8duQDz",
        "colab": {
          "base_uri": "https://localhost:8080/"
        },
        "outputId": "3abba756-6e9d-4d09-d229-6dc2f8cb88cb"
      },
      "outputs": [
        {
          "output_type": "execute_result",
          "data": {
            "text/plain": [
              "array([[ 0,  4,  8],\n",
              "       [ 1,  5,  9],\n",
              "       [ 2,  6, 10],\n",
              "       [ 3,  7, 11]])"
            ]
          },
          "metadata": {},
          "execution_count": 59
        }
      ],
      "source": [
        "# Transpose\n",
        "np.transpose(a2)\n",
        "a2.T"
      ]
    },
    {
      "cell_type": "code",
      "execution_count": 60,
      "metadata": {
        "id": "IULUNn5OuQMT",
        "colab": {
          "base_uri": "https://localhost:8080/"
        },
        "outputId": "99dd0212-643e-4043-fc70-3c395fa024b1"
      },
      "outputs": [
        {
          "output_type": "execute_result",
          "data": {
            "text/plain": [
              "array([ 0,  1,  2,  3,  4,  5,  6,  7,  8,  9, 10, 11, 12, 13, 14, 15, 16,\n",
              "       17, 18, 19, 20, 21, 22, 23, 24, 25, 26])"
            ]
          },
          "metadata": {},
          "execution_count": 60
        }
      ],
      "source": [
        "# ravel\n",
        "a3.ravel()"
      ]
    }
  ]
}